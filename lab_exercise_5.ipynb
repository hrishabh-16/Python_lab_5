{
 "cells": [
  {
   "cell_type": "code",
   "execution_count": 10,
   "metadata": {},
   "outputs": [
    {
     "name": "stdout",
     "output_type": "stream",
     "text": [
      "---Division by Zero Program---\n",
      "Invalid operation! Cannot divide by Zero. Divide by a valid number.\n",
      "Divison Program exited.\n"
     ]
    }
   ],
   "source": [
    "\"\"\"Write a program to handle the exception of ZeroDivisionError.\"\"\"\n",
    "\n",
    "num1 = int(input(\"Enter first number: \"))\n",
    "num2 = int(input(\"Enter second number: \"))\n",
    "\n",
    "try:\n",
    "    print(\"---Division by Zero Program---\")\n",
    "    result = num1 / num2\n",
    "    print(f\"Division of {num1} & {num2} = {result}\")\n",
    "except ZeroDivisionError:\n",
    "    print(\"Invalid operation! Cannot divide by Zero. Divide by a valid number.\")\n",
    "finally:\n",
    "    print(\"Divison Program exited.\")"
   ]
  },
  {
   "cell_type": "code",
   "execution_count": 9,
   "metadata": {},
   "outputs": [
    {
     "name": "stdout",
     "output_type": "stream",
     "text": [
      "ERROR :  list index out of range\n",
      "ATTEMPTED TO ACCESS THE INDEX : 6\n",
      "PROGRAM EXECUTION COMPLETED.\n"
     ]
    }
   ],
   "source": [
    "\"\"\"Write a program to handle the exception of IndexError.\"\"\"\n",
    "\n",
    "\n",
    "def access_element(lst, index):\n",
    "    try:\n",
    "        element = lst[index]\n",
    "        return element\n",
    "    except IndexError as e:\n",
    "        print(\"ERROR : \", e)\n",
    "        return None\n",
    "    finally:\n",
    "        print(\"ATTEMPTED TO ACCESS THE INDEX :\", index)\n",
    "    # Sample list\n",
    "\n",
    "\n",
    "my_list = [10, 20, 30, 40, 50]\n",
    "# Input from the user\n",
    "try:\n",
    "    index = int(input(\"ENTER THE INDEX TO ACCESS : \"))\n",
    "    result = access_element(my_list, index)\n",
    "    if result is not None:\n",
    "        print(\"ELEMENT AT INDEX : \", index, \":\", result)\n",
    "except ValueError:\n",
    "    print(\"PLEASE ENTER A VALID INPUT .\")\n",
    "except Exception as e:\n",
    "    print(\"AN ERROR OCCURED :\", e)\n",
    "    raise e\n",
    "finally:\n",
    "    print(\"PROGRAM EXECUTION COMPLETED.\")"
   ]
  }
 ],
 "metadata": {
  "kernelspec": {
   "display_name": "Python 3",
   "language": "python",
   "name": "python3"
  },
  "language_info": {
   "codemirror_mode": {
    "name": "ipython",
    "version": 3
   },
   "file_extension": ".py",
   "mimetype": "text/x-python",
   "name": "python",
   "nbconvert_exporter": "python",
   "pygments_lexer": "ipython3",
   "version": "3.11.4"
  },
  "orig_nbformat": 4
 },
 "nbformat": 4,
 "nbformat_minor": 2
}
